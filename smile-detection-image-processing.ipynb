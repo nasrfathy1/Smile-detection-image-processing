{
 "cells": [
  {
   "cell_type": "code",
   "execution_count": null,
   "id": "16c679c7",
   "metadata": {},
   "outputs": [],
   "source": [
    "import dlib\n",
    "import cv2\n",
    "import os\n",
    "from imutils import face_utils\n",
    "from scipy.spatial import distance\n",
    "\n",
    "\n",
    "os.chdir(r'D:\\Motion-Detection-and-Tracking-Using-Opencv-main')\n",
    "detect_face=dlib.get_frontal_face_detector()\n",
    "predictor=dlib.shape_predictor('shape_predictor_68_face_landmarks.dat')\n",
    "lstart,lend=face_utils.FACIAL_LANDMARKS_68_IDXS['mouth']\n",
    "forcc=cv2.VideoWriter_fourcc(*'XVID')\n",
    "out=cv2.VideoWriter('output.mp4',forcc,20.0,(640,480))\n",
    "\n",
    "def get_smile(mouse):\n",
    "\n",
    "    pt1=distance.euclidean(mouse[0],mouse[6])\n",
    "    pt2=distance.euclidean(mouse[3],mouse[9])\n",
    "    if pt1>80 and pt2>30:\n",
    "        return ('smile')\n",
    "    else:\n",
    "        return ('not smile')\n",
    "\n",
    "cap=cv2.VideoCapture(0)\n",
    "font=cv2.FONT_HERSHEY_COMPLEX\n",
    "while cap.isOpened():\n",
    "    ret,frame=cap.read()\n",
    "    if ret==True:\n",
    "        gray=cv2.cvtColor(frame,cv2.COLOR_BGR2GRAY)\n",
    "        faces=detect_face(gray)\n",
    "        for face in faces :\n",
    "            i=0\n",
    "            x1=face.left()\n",
    "            y1=face.top()\n",
    "            x2=face.right()\n",
    "            y2=face.bottom()\n",
    "            cv2.rectangle(frame,(x1,y1),(x2,y2),(10,200,200),3)\n",
    "            landmark=predictor(gray,face)\n",
    "            landmark=face_utils.shape_to_np(landmark)\n",
    "            mouse=landmark[lstart:lend]\n",
    "            state=get_smile(mouse)\n",
    "            cv2.putText(frame,state,(x1,y1-10),font,.8,color=(230,39,22),thickness=3)\n",
    "        \n",
    "        out.write(frame)\n",
    "    \n",
    "        cv2.imshow('frame',frame)\n",
    "        if cv2.waitKey(1)==27:\n",
    "            break\n",
    "cap.release()\n",
    "cv2.destroyAllWindows()\n",
    "out.release()\n",
    "\n",
    "#0,3,6,9"
   ]
  },
  {
   "cell_type": "code",
   "execution_count": null,
   "id": "1fa088c6",
   "metadata": {},
   "outputs": [],
   "source": []
  }
 ],
 "metadata": {
  "kernelspec": {
   "display_name": "Python 3 (ipykernel)",
   "language": "python",
   "name": "python3"
  },
  "language_info": {
   "codemirror_mode": {
    "name": "ipython",
    "version": 3
   },
   "file_extension": ".py",
   "mimetype": "text/x-python",
   "name": "python",
   "nbconvert_exporter": "python",
   "pygments_lexer": "ipython3",
   "version": "3.10.9"
  }
 },
 "nbformat": 4,
 "nbformat_minor": 5
}
